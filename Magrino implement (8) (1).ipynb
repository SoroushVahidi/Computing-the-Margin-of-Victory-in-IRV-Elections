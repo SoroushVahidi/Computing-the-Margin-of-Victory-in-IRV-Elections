{
 "cells": [
  {
   "cell_type": "code",
   "execution_count": null,
   "id": "3f9282c4-b060-47ba-bef4-39524a1edcd2",
   "metadata": {},
   "outputs": [],
   "source": []
  },
  {
   "cell_type": "code",
   "execution_count": 1,
   "id": "d279b161-2745-4064-b8f8-bf89a7dc2340",
   "metadata": {},
   "outputs": [],
   "source": [
    "import random\n",
    "import functools\n",
    "import timeit\n",
    "import time\n",
    "import pyrankvote\n",
    "from array import *\n",
    "import gurobipy as gp\n",
    "from gurobipy import GRB\n",
    "import itertools\n",
    "from stvpoll.scottish_stv import ScottishSTV\n",
    "import math\n",
    "import pandas as pd\n",
    "import math\n",
    "import copy\n",
    "import numpy\n",
    "from decimal import *\n",
    "from decimal import Decimal\n",
    "from pyrankvote import Candidate, Ballot\n",
    "import inspect\n",
    "from stvpoll.__init__ import ElectionRound"
   ]
  },
  {
   "cell_type": "code",
   "execution_count": 2,
   "id": "7a835910-246f-4698-8ec9-21764f2b50d8",
   "metadata": {},
   "outputs": [],
   "source": [
    "\n",
    "#number of votes\n",
    "#length of each ballot\n",
    "most=2\n",
    "x=7\n",
    "#number of the candidates\n",
    "#m = rndomBallotGen(n,l,x)"
   ]
  },
  {
   "cell_type": "code",
   "execution_count": 3,
   "id": "7648bf6b-c8ae-4b8c-b846-d5c86230ba6b",
   "metadata": {},
   "outputs": [],
   "source": [
    "def tolist(listuple):\n",
    "    ans=[]\n",
    "    for i in ((listuple)):\n",
    "        ans.append(list(i))\n",
    "    return ans"
   ]
  },
  {
   "cell_type": "code",
   "execution_count": 4,
   "id": "c25ef03c-6005-4fa6-af31-4f98cf0dc85e",
   "metadata": {},
   "outputs": [],
   "source": [
    "    lstt = list(range(x))\n",
    "    permt=list(itertools.permutations(lstt))\n",
    "    permt.sort()\n",
    "    permt=copy.deepcopy(tolist(permt))"
   ]
  },
  {
   "cell_type": "code",
   "execution_count": null,
   "id": "326c87d8-48ed-4a1f-b0a2-59b2aa3416fb",
   "metadata": {},
   "outputs": [],
   "source": []
  },
  {
   "cell_type": "code",
   "execution_count": 5,
   "id": "c28a2642-ec00-474f-b73e-2a289fa7970c",
   "metadata": {},
   "outputs": [],
   "source": [
    "def zetta(order,k,r):\n",
    "    cand=[]\n",
    "    for i in range(r):\n",
    "        cand.append(order[i])\n",
    "#    print(cand)\n",
    "    \n",
    "    lst = list(order)\n",
    "    perm=list(itertools.permutations(lst))\n",
    "    perm.sort()\n",
    "    ans=[]\n",
    "    ek=k\n",
    "    for i in range(len(perm)):\n",
    "        ind=perm[i].index(ek)\n",
    "#        print(ind)\n",
    "        ok=True\n",
    "    #    print(i,perm[i],ind)\n",
    "        for j in range(0,ind):\n",
    "            if((perm[i][j] not in cand)):\n",
    "            #    print(perm[j])\n",
    "                ok=False\n",
    "                break\n",
    "        if(ok):\n",
    "            ans.append(i)\n",
    "    \n",
    "    \n",
    "        \n",
    "    return ans"
   ]
  },
  {
   "cell_type": "code",
   "execution_count": 6,
   "id": "ab23d41c-d754-45df-82ed-29333b600a1f",
   "metadata": {},
   "outputs": [
    {
     "name": "stdout",
     "output_type": "stream",
     "text": [
      "[0, 1, 2, 3, 4, 5]\n"
     ]
    }
   ],
   "source": [
    "print(zetta([0,1,2],2,2))"
   ]
  },
  {
   "cell_type": "code",
   "execution_count": null,
   "id": "a04f43a0-05ec-43d4-9ad9-8f3076f09899",
   "metadata": {},
   "outputs": [],
   "source": []
  },
  {
   "cell_type": "code",
   "execution_count": 7,
   "id": "81206735-918c-4bf7-952c-395593386730",
   "metadata": {},
   "outputs": [],
   "source": [
    "def convert(a,b):\n",
    "    ans=list(copy.deepcopy(a))\n",
    " #   print(\"a=\",a)\n",
    "    for i in a:\n",
    "        if i not in b:\n",
    "            ans.remove(i)\n",
    "    return ans"
   ]
  },
  {
   "cell_type": "code",
   "execution_count": 8,
   "id": "d06c9171-fc78-4376-bdf2-ed599aa0440d",
   "metadata": {},
   "outputs": [],
   "source": [
    "def rndomBallotGen(most):\n",
    "    votes  = []\n",
    "    for i in range(math.factorial(x)):\n",
    "        votes.append(random.randint(0,most))\n",
    "        \n",
    "    return votes"
   ]
  },
  {
   "cell_type": "code",
   "execution_count": 9,
   "id": "f8f26c9f-8b6d-48ea-96d9-65e65acc374e",
   "metadata": {},
   "outputs": [],
   "source": [
    "def ILP(votes,order):\n",
    "    #define model\n",
    "    largeValue = 1000\n",
    "    noc=len(order)\n",
    "    model = gp.Model(\"margin\")\n",
    "    model.setParam(\"OutputFlag\",0)\n",
    "\n",
    "    ted=math.factorial(noc)\n",
    "    if(len(votes)!=math.factorial(len(order))):\n",
    "        vt=[0]*ted\n",
    "        ls2 = copy.deepcopy(order)\n",
    "        pr2=tolist(itertools.permutations(ls2))\n",
    "        pr2.sort()\n",
    "        for i in range(len(permt)):\n",
    "            rw=convert(permt[i],order)\n",
    "#            print(order,rw)\n",
    "#            print(votes,len(perm),len(votes))\n",
    "            vt[pr2.index(rw)]+=votes[i]\n",
    "        votes=copy.deepcopy(vt)\n",
    "        lst=copy.deepcopy(ls2)\n",
    "            \n",
    "        \n",
    "#    model.params.NonConvex = 2\n",
    "    b = model.addVar(vtype=GRB.INTEGER,name='b')\n",
    "    # x[i,j] = a binary variable that is 1 iff candidate j is eliminated before candidate i\n",
    "    #ai,j a variable representing the number of ballots < i, j > that are added\n",
    "    p = model.addVars(ted,vtype=GRB.INTEGER,name='p')\n",
    "    m = model.addVars(ted,vtype=GRB.INTEGER,name='m')\n",
    "    y = model.addVars(ted,vtype=GRB.INTEGER,name='y')\n",
    "    \n",
    "    for i in range(ted):\n",
    "        model.addConstr(y[i]<=sum(votes))\n",
    "        model.addConstr(votes[i]+p[i]-m[i]==y[i])\n",
    "        model.addConstr(0<=y[i])\n",
    "        model.addConstr(m[i]<=votes[i])\n",
    "        model.addConstr(0<=m[i])\n",
    "        model.addConstr(0<=p[i])\n",
    "    model.addConstr(sum(p[i] for i in range(ted)) == sum(m[i] for i in range(ted)))\n",
    "    for i in range(noc):\n",
    "        for j in range(i+1,noc):\n",
    "            set1=zetta(order,order[i],i)\n",
    "            set2=zetta(order,order[j],i)\n",
    "            p1=gp.quicksum(y[l] for l in set1)\n",
    "            p2=gp.quicksum(y[l] for l in set2)\n",
    "       #     print(set1,set2)\n",
    "            model.addConstr(p1<=p2)\n",
    "    model.addConstr(b == gp.quicksum(p[i] for i in range(ted)))\n",
    "    model.setObjective(b, GRB.MINIMIZE)\n",
    "    model.optimize()\n",
    "    \n",
    "    pa=list(p[i].X for i in range(ted))\n",
    "    ya=list(y[i].X for i in range(ted))\n",
    "    ma=list(m[i].X for i in range(ted))\n",
    "  #  print(pa,ya,ma)\n",
    "  \n",
    "    #print(myvars)\n",
    "\n",
    "    return model.getObjective().getValue()"
   ]
  },
  {
   "cell_type": "code",
   "execution_count": 10,
   "id": "ca9b3a6c-1354-4ced-9f24-db85adc1087a",
   "metadata": {},
   "outputs": [],
   "source": [
    "# lst = list(range(x))\n",
    "# perm=list(itertools.permutations(lst))\n",
    "# perm.sort()\n",
    "# print(perm)"
   ]
  },
  {
   "cell_type": "code",
   "execution_count": null,
   "id": "493241f2-77b8-4eec-a3de-01f0936f1e52",
   "metadata": {},
   "outputs": [],
   "source": []
  },
  {
   "cell_type": "code",
   "execution_count": 11,
   "id": "a20fef23-a618-431e-93ed-679844f21b98",
   "metadata": {},
   "outputs": [],
   "source": [
    "def margin(votes,w):\n",
    "    ans=1000*1000\n",
    "    order=[]\n",
    "    lst = list(range(x-1))\n",
    "    perm=list(itertools.permutations(lst))\n",
    "    perm.sort()\n",
    "    for i in perm:\n",
    "        i=list(i)\n",
    "        for j in range(x-1):\n",
    "            if(i[j]>=w):\n",
    "                i[j]+=1\n",
    "        i.append(w)\n",
    "        jav=ILP(votes,i)\n",
    "        if(ans>jav):\n",
    "            ans=jav\n",
    "            order=i\n",
    "        \n",
    "    return ans,order"
   ]
  },
  {
   "cell_type": "code",
   "execution_count": null,
   "id": "5b151640-7b4c-47ea-8752-2960abdddef4",
   "metadata": {},
   "outputs": [],
   "source": []
  },
  {
   "cell_type": "code",
   "execution_count": null,
   "id": "78a96eee-a1d9-442c-be42-dfb6773c417b",
   "metadata": {},
   "outputs": [],
   "source": []
  },
  {
   "cell_type": "code",
   "execution_count": null,
   "id": "8be98425-cf90-4ada-9e6e-9e03dc000fb1",
   "metadata": {},
   "outputs": [],
   "source": []
  },
  {
   "cell_type": "code",
   "execution_count": 12,
   "id": "4c1a6ae0-d659-474d-aab0-8ddde4b8b785",
   "metadata": {},
   "outputs": [],
   "source": [
    "votes=rndomBallotGen(most)\n",
    "#print(votes)\n",
    "#print(margin(votes,0))"
   ]
  },
  {
   "cell_type": "code",
   "execution_count": null,
   "id": "eae5495b-517d-4120-b3bb-68ff778da7b1",
   "metadata": {},
   "outputs": [],
   "source": []
  },
  {
   "cell_type": "code",
   "execution_count": 13,
   "id": "ad215f64-a638-4da4-83e0-ea42784bc3f2",
   "metadata": {},
   "outputs": [],
   "source": [
    "def optmar(votes,w):\n",
    "\n",
    "    ans=1000*1000\n",
    "    order=[]\n",
    "    pr=[]\n",
    "\n",
    "#    print(\"perm=\",perm)\n",
    "\n",
    "#    print(perm[0])\n",
    "    pr.append([0,[w]])\n",
    "    while(len(pr)):\n",
    "        it=copy.deepcopy(pr[0])\n",
    "        if(len(it[1])==x):\n",
    "#            print(pr)\n",
    "            return it[0],it[1]\n",
    "        for i in range(x):\n",
    "            if(i not in it[1]):\n",
    "                it2=[i,*it[1]]\n",
    "                secprm=list(itertools.permutations(it2))\n",
    "                secprm.sort()\n",
    "                secprm=copy.deepcopy(tolist(secprm))\n",
    "                vt=[0]*math.factorial(len(it2))\n",
    "            #    print(\"it2 =\",it2)\n",
    "                for j in range(len(permt)):\n",
    "                    aftcnv=copy.deepcopy(convert((permt[j]),it2))\n",
    "           #         print(aftcnv)\n",
    "           #         print(secprm)\n",
    "           #         print(perm[j],it2)\n",
    "                    vt[secprm.index(aftcnv)]+=votes[j]\n",
    "                pr.append((ILP(vt,it2),it2))\n",
    "        pr.remove(pr[0])\n",
    "        pr.sort()\n",
    "                    \n",
    "        \n",
    "        "
   ]
  },
  {
   "cell_type": "raw",
   "id": "270e1075-990b-473d-bf76-9480393b9474",
   "metadata": {},
   "source": []
  },
  {
   "cell_type": "code",
   "execution_count": 14,
   "id": "6f3bb6c5-fa5f-4630-89b7-71d717d60a4b",
   "metadata": {},
   "outputs": [],
   "source": [
    "# start=time.time()\n",
    "# print(optmar(votes,0))\n",
    "# end=time.time()\n",
    "# print(end-start)"
   ]
  },
  {
   "cell_type": "code",
   "execution_count": 15,
   "id": "0b1429cd-00ba-4b31-bfc0-1cab08aa8477",
   "metadata": {},
   "outputs": [],
   "source": [
    "# start=time.time()\n",
    "# print(margin(votes,0))\n",
    "# end=time.time()\n",
    "# print(end-start)"
   ]
  },
  {
   "cell_type": "code",
   "execution_count": 16,
   "id": "1050139f-1e04-42e1-a190-b9d44115e857",
   "metadata": {},
   "outputs": [],
   "source": [
    "def deltasce(votes,order,c,e):\n",
    "    S=copy.deepcopy(order)\n",
    "    S.append(e)\n",
    "    ans=0\n",
    "#     lst=list(i for i in range(x))\n",
    "#     perm=list(itertools.permutations(lst))\n",
    "#     perm.sort()\n",
    "# #    print(\"perm=\",perm)\n",
    "#     perm=copy.deepcopy(tolist(perm))\n",
    "    for i in range(len(permt)):\n",
    "        jayg=copy.deepcopy(convert(permt[i],S))\n",
    "        if(jayg[0]==c):\n",
    "            ans+=votes[i]\n",
    "    return ans\n",
    "    "
   ]
  },
  {
   "cell_type": "code",
   "execution_count": 17,
   "id": "1d65898d-6c2e-4b31-b6b2-f858eec2fd53",
   "metadata": {},
   "outputs": [],
   "source": [
    "def f(e,votes):\n",
    "\n",
    "    ans=0\n",
    "    for i in range(len(permt)):\n",
    "        if(permt[i][0]==e):\n",
    "            ans+=votes[i]\n",
    "    return ans\n",
    "    \n",
    "    "
   ]
  },
  {
   "cell_type": "code",
   "execution_count": 18,
   "id": "1b13d188-2974-467e-8c0e-d66a7b2255af",
   "metadata": {},
   "outputs": [],
   "source": [
    "def l2(c,e,order,votes):\n",
    "    return math.ceil((f(e,votes)-deltasce(votes,order,c,e))/2)"
   ]
  },
  {
   "cell_type": "code",
   "execution_count": 19,
   "id": "7155b23b-54ff-4a9e-9de6-bf812249e74f",
   "metadata": {},
   "outputs": [],
   "source": [
    "def lb2(order,votes):\n",
    "    ans=0\n",
    "    for c in order:\n",
    "        for e in range(x):\n",
    "            if(e not in order):\n",
    "                ans=max(ans,l2(c,e,order,votes))\n",
    "    return ans\n",
    "                "
   ]
  },
  {
   "cell_type": "code",
   "execution_count": null,
   "id": "138153b1-cf3f-44e1-ae70-7624ec354203",
   "metadata": {},
   "outputs": [],
   "source": []
  },
  {
   "cell_type": "code",
   "execution_count": null,
   "id": "a779285f-fe94-40b0-acb3-a33804f808ba",
   "metadata": {},
   "outputs": [],
   "source": []
  },
  {
   "cell_type": "code",
   "execution_count": 20,
   "id": "551f0cf6-a726-4b4e-9066-a391978694c7",
   "metadata": {},
   "outputs": [],
   "source": [
    "def expand(l,order,U,Q,votes):\n",
    "    if(len(order)==x):\n",
    "#        print(votes,z,order)\n",
    "        return l,Q,order\n",
    "    for c in range(x):\n",
    "        if c not in order:\n",
    "            orpr=[c,*order]\n",
    "            lpr=max(l,lb2(orpr,votes))\n",
    "            if lpr<U:\n",
    "                m=ILP(votes,orpr)\n",
    "                lpr=max(lpr,m)\n",
    "            if lpr<U:\n",
    " #               print(\"lpr=\",lpr,\"orpr=\",orpr,\"ILP=\",ILP(votes,orpr))\n",
    "                Q.append([lpr,orpr])\n",
    "    return U,Q,order"
   ]
  },
  {
   "cell_type": "code",
   "execution_count": 21,
   "id": "3313d382-1dbc-4553-bc2e-e00eda64e9a3",
   "metadata": {},
   "outputs": [],
   "source": [
    "def blom(votes,w):\n",
    "    ans=1000*1000\n",
    "    pr=[]\n",
    "    order=[]\n",
    "#    print(perm[0])\n",
    "    pr.append([0,[w]])\n",
    "    while(len(pr)):\n",
    "        \n",
    "        pr.sort()\n",
    "#        print(pr)\n",
    "        it=copy.deepcopy(pr[0])\n",
    "    #    print(it[0],it[1])\n",
    "        pr.remove(pr[0])\n",
    "        \n",
    "        if(it[0]<ans):\n",
    "            ans,pr,order=expand(it[0],it[1],ans,pr,votes)\n",
    "    return ans,order\n"
   ]
  },
  {
   "cell_type": "code",
   "execution_count": 22,
   "id": "312e39e6-d3cc-48ac-af2c-ce76d7b0d0d3",
   "metadata": {},
   "outputs": [],
   "source": [
    "# start=time.time()\n",
    "# print(blom(votes,0))\n",
    "# end=time.time()\n",
    "# print(end-start)"
   ]
  },
  {
   "cell_type": "code",
   "execution_count": null,
   "id": "676c8b14-7ed8-48c7-97ab-fca61cba97ec",
   "metadata": {},
   "outputs": [
    {
     "name": "stdout",
     "output_type": "stream",
     "text": [
      "Set parameter Username\n",
      "Academic license - for non-commercial use only - expires 2023-05-26\n"
     ]
    }
   ],
   "source": [
    "ted=0\n",
    "maxi=10\n",
    "t1=0\n",
    "t2=0\n",
    "t3=0\n",
    "while(ted<maxi):\n",
    "    ted+=1\n",
    "    votes=rndomBallotGen(most)\n",
    "    start=time.time()\n",
    "    o1,o2=optmar(votes,0)\n",
    "    end=time.time()\n",
    "    t1+=end-start\n",
    "    start=time.time()\n",
    "    b1,b2=blom(votes,0)\n",
    "    end=time.time()\n",
    "    t2+=end-start\n",
    "    # start=time.time()\n",
    "    # d1,d2=margin(votes,0)\n",
    "    # end=time.time()\n",
    "    # t3+=end-start\n",
    "    if((o1!=b1)):\n",
    "        print(votes)\n",
    "        print(d1,d2)\n",
    "        print(o1,o2)\n",
    "        print(b1,b2)\n",
    "        print(\"\\n\")\n",
    "    print(t1,t2)\n",
    "    "
   ]
  },
  {
   "cell_type": "code",
   "execution_count": null,
   "id": "eed5db8d-1046-4511-8912-1539f17a0e8b",
   "metadata": {},
   "outputs": [],
   "source": []
  },
  {
   "cell_type": "code",
   "execution_count": null,
   "id": "88b66014-7de4-4cf8-841e-4d95c991d0bf",
   "metadata": {},
   "outputs": [],
   "source": []
  },
  {
   "cell_type": "code",
   "execution_count": null,
   "id": "e4dc831c-28a5-400e-8666-d3792071dba0",
   "metadata": {},
   "outputs": [],
   "source": []
  },
  {
   "cell_type": "code",
   "execution_count": null,
   "id": "0c858809-78ab-4fd6-b62c-0d0ebebc470c",
   "metadata": {},
   "outputs": [],
   "source": []
  },
  {
   "cell_type": "code",
   "execution_count": null,
   "id": "326950d8-9340-4e48-b944-79bd145acdf9",
   "metadata": {},
   "outputs": [],
   "source": []
  },
  {
   "cell_type": "code",
   "execution_count": null,
   "id": "f111bae2-4dc2-431d-bcac-b47b0c148390",
   "metadata": {},
   "outputs": [],
   "source": []
  }
 ],
 "metadata": {
  "kernelspec": {
   "display_name": "Python 3 (ipykernel)",
   "language": "python",
   "name": "python3"
  },
  "language_info": {
   "codemirror_mode": {
    "name": "ipython",
    "version": 3
   },
   "file_extension": ".py",
   "mimetype": "text/x-python",
   "name": "python",
   "nbconvert_exporter": "python",
   "pygments_lexer": "ipython3",
   "version": "3.9.12"
  }
 },
 "nbformat": 4,
 "nbformat_minor": 5
}
