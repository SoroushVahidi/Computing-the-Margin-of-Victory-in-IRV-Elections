{
 "cells": [
  {
   "cell_type": "code",
   "execution_count": null,
   "id": "3f9282c4-b060-47ba-bef4-39524a1edcd2",
   "metadata": {},
   "outputs": [],
   "source": []
  },
  {
   "cell_type": "code",
   "execution_count": 1,
   "id": "d279b161-2745-4064-b8f8-bf89a7dc2340",
   "metadata": {},
   "outputs": [],
   "source": [
    "import random\n",
    "import functools\n",
    "import pyrankvote\n",
    "from array import *\n",
    "import gurobipy as gp\n",
    "from gurobipy import GRB\n",
    "import itertools\n",
    "from stvpoll.scottish_stv import ScottishSTV\n",
    "import math\n",
    "import pandas as pd\n",
    "import math\n",
    "import copy\n",
    "import numpy\n",
    "from decimal import *\n",
    "from decimal import Decimal\n",
    "from pyrankvote import Candidate, Ballot\n",
    "import inspect\n",
    "from stvpoll.__init__ import ElectionRound"
   ]
  },
  {
   "cell_type": "code",
   "execution_count": 2,
   "id": "7a835910-246f-4698-8ec9-21764f2b50d8",
   "metadata": {},
   "outputs": [],
   "source": [
    "n = 40\n",
    "#number of votes\n",
    "#length of each ballot\n",
    "most=8\n",
    "x=4\n",
    "#number of the candidates\n",
    "#m = rndomBallotGen(n,l,x)"
   ]
  },
  {
   "cell_type": "code",
   "execution_count": 3,
   "id": "c28a2642-ec00-474f-b73e-2a289fa7970c",
   "metadata": {},
   "outputs": [],
   "source": [
    "def zetta(order,k,r):\n",
    "    cand=order[0:r]\n",
    " #   print(cand)\n",
    "    \n",
    "    lst = list(order)\n",
    "    perm=list(itertools.permutations(lst))\n",
    "    perm.sort()\n",
    "    ans=[]\n",
    "    ek=order[k]\n",
    "    for i in range(len(perm)):\n",
    "        ind=perm[i].index(ek)\n",
    "        ok=True\n",
    "    #    print(i,perm[i],ind)\n",
    "        for j in range(ind+1,len(order)):\n",
    "            if((perm[i][j] not in cand)):\n",
    "            #    print(perm[j])\n",
    "                ok=False\n",
    "                break\n",
    "        if(ok):\n",
    "            ans.append(i)\n",
    "    \n",
    "    \n",
    "        \n",
    "    return ans"
   ]
  },
  {
   "cell_type": "code",
   "execution_count": 4,
   "id": "ab23d41c-d754-45df-82ed-29333b600a1f",
   "metadata": {},
   "outputs": [
    {
     "name": "stdout",
     "output_type": "stream",
     "text": [
      "[3, 4, 5, 13, 16, 18, 19, 22]\n"
     ]
    }
   ],
   "source": [
    "print(zetta([2,0,3,1],3,1))"
   ]
  },
  {
   "cell_type": "code",
   "execution_count": null,
   "id": "81206735-918c-4bf7-952c-395593386730",
   "metadata": {},
   "outputs": [],
   "source": []
  },
  {
   "cell_type": "code",
   "execution_count": 5,
   "id": "d06c9171-fc78-4376-bdf2-ed599aa0440d",
   "metadata": {},
   "outputs": [],
   "source": [
    "def rndomBallotGen(most):\n",
    "    votes  = []\n",
    "    for i in range(math.factorial(x)):\n",
    "        votes.append(random.randint(0,most))\n",
    "        \n",
    "    return votes"
   ]
  },
  {
   "cell_type": "code",
   "execution_count": 6,
   "id": "f8f26c9f-8b6d-48ea-96d9-65e65acc374e",
   "metadata": {},
   "outputs": [],
   "source": [
    "def ILP(votes,order):\n",
    "    #define model\n",
    "    largeValue = 1000\n",
    "    noc=len(order)\n",
    "    model = gp.Model(\"margin\")\n",
    "    model.setParam(\"OutputFlag\",0)\n",
    "    ted=math.factorial(noc)\n",
    "#    model.params.NonConvex = 2\n",
    "    b = model.addVar(vtype=GRB.INTEGER,name='b')\n",
    "    # x[i,j] = a binary variable that is 1 iff candidate j is eliminated before candidate i\n",
    "    #ai,j a variable representing the number of ballots < i, j > that are added\n",
    "    p = model.addVars(ted,vtype=GRB.INTEGER,name='p')\n",
    "    m = model.addVars(ted,vtype=GRB.INTEGER,name='m')\n",
    "    y = model.addVars(ted,vtype=GRB.INTEGER,name='y')\n",
    "    \n",
    "    for i in range(ted):\n",
    "        model.addConstr(y[i]<=sum(votes))\n",
    "        model.addConstr(votes[i]+p[i]-m[i]==y[i])\n",
    "        model.addConstr(0<=y[i])\n",
    "        model.addConstr(m[i]<=votes[i])\n",
    "        model.addConstr(0<=m[i])\n",
    "        model.addConstr(0<=p[i])\n",
    "    model.addConstr(sum(p[i] for i in range(ted)) == sum(m[i] for i in range(ted)))\n",
    "    lst = copy.deepcopy(order)\n",
    "    perm=list(itertools.permutations(lst))\n",
    "    perm.sort()\n",
    "    for i in range(noc):\n",
    "        for j in range(i+1,noc):\n",
    "            set1=zetta(order,i,i)\n",
    "            set2=zetta(order,j,i)\n",
    "            p1=gp.quicksum(y[l] for l in set1)\n",
    "            p2=gp.quicksum(y[l] for l in set2)\n",
    "       #     print(set1,set2)\n",
    "            model.addConstr(p1<=p2)\n",
    "    model.addConstr(b == gp.quicksum(p[i] for i in range(ted)))\n",
    "    model.setObjective(b, GRB.MINIMIZE)\n",
    "    model.optimize()\n",
    "    \n",
    "    pa=list(p[i].X for i in range(ted))\n",
    "    ya=list(y[i].X for i in range(ted))\n",
    "    ma=list(m[i].X for i in range(ted))\n",
    "   \n",
    "  \n",
    "    #print(myvars)\n",
    "\n",
    "    return model.getObjective().getValue()"
   ]
  },
  {
   "cell_type": "code",
   "execution_count": 7,
   "id": "ca9b3a6c-1354-4ced-9f24-db85adc1087a",
   "metadata": {},
   "outputs": [],
   "source": [
    "# lst = list(range(x))\n",
    "# perm=list(itertools.permutations(lst))\n",
    "# perm.sort()\n",
    "# print(perm)"
   ]
  },
  {
   "cell_type": "code",
   "execution_count": null,
   "id": "493241f2-77b8-4eec-a3de-01f0936f1e52",
   "metadata": {},
   "outputs": [],
   "source": []
  },
  {
   "cell_type": "code",
   "execution_count": 8,
   "id": "a20fef23-a618-431e-93ed-679844f21b98",
   "metadata": {},
   "outputs": [],
   "source": [
    "def margin(votes,w):\n",
    "    ans=1000*1000\n",
    "    order=[]\n",
    "    lst = list(range(x-1))\n",
    "    perm=list(itertools.permutations(lst))\n",
    "    perm.sort()\n",
    "    for i in perm:\n",
    "        i=list(i)\n",
    "        for j in range(x-1):\n",
    "            if(i[j]>=w):\n",
    "                i[j]+=1\n",
    "        i.append(w)\n",
    "        jav=ILP(votes,i)\n",
    "        if(ans>jav):\n",
    "            ans=jav\n",
    "            order=i\n",
    "        \n",
    "    return ans,order"
   ]
  },
  {
   "cell_type": "code",
   "execution_count": 9,
   "id": "5b151640-7b4c-47ea-8752-2960abdddef4",
   "metadata": {},
   "outputs": [],
   "source": [
    "def convert(a,b):\n",
    "    ans=copy.deepcopy(a)\n",
    " #   print(\"a=\",a)\n",
    "    for i in a:\n",
    "        if i not in b:\n",
    "            ans.remove(i)\n",
    "    return ans"
   ]
  },
  {
   "cell_type": "code",
   "execution_count": null,
   "id": "78a96eee-a1d9-442c-be42-dfb6773c417b",
   "metadata": {},
   "outputs": [],
   "source": []
  },
  {
   "cell_type": "code",
   "execution_count": null,
   "id": "8be98425-cf90-4ada-9e6e-9e03dc000fb1",
   "metadata": {},
   "outputs": [],
   "source": []
  },
  {
   "cell_type": "code",
   "execution_count": 10,
   "id": "4c1a6ae0-d659-474d-aab0-8ddde4b8b785",
   "metadata": {},
   "outputs": [
    {
     "name": "stdout",
     "output_type": "stream",
     "text": [
      "[5, 4, 3, 7, 2, 1, 6, 0, 7, 6, 4, 8, 0, 5, 4, 5, 2, 4, 7, 6, 5, 2, 5, 6]\n",
      "Set parameter Username\n",
      "Academic license - for non-commercial use only - expires 2023-05-26\n",
      "(5.0, [0, 1, 2, 3])\n"
     ]
    }
   ],
   "source": [
    "votes=rndomBallotGen(most)\n",
    "print(votes)\n",
    "print(margin(votes,3))"
   ]
  },
  {
   "cell_type": "code",
   "execution_count": 11,
   "id": "eae5495b-517d-4120-b3bb-68ff778da7b1",
   "metadata": {},
   "outputs": [],
   "source": [
    "def tolist(listuple):\n",
    "    ans=[]\n",
    "    for i in ((listuple)):\n",
    "        ans.append(list(i))\n",
    "    return ans"
   ]
  },
  {
   "cell_type": "code",
   "execution_count": 12,
   "id": "ad215f64-a638-4da4-83e0-ea42784bc3f2",
   "metadata": {},
   "outputs": [],
   "source": [
    "def optmar(votes,w):\n",
    "    ans=1000*1000\n",
    "    order=[]\n",
    "    pr=[]\n",
    "    lst = list(i for i in range(x))\n",
    "#    print(\"lst=\",lst)\n",
    "    perm=list(itertools.permutations(lst))\n",
    "    perm.sort()\n",
    "    perm=copy.deepcopy(perm)\n",
    "#    print(\"perm=\",perm)\n",
    "    perm=copy.deepcopy(tolist(perm))\n",
    "#    print(perm[0])\n",
    "    pr.append([0,[w]])\n",
    "    while(len(pr)):\n",
    "        it=copy.deepcopy(pr[0])\n",
    "        if(len(it[1])==x):\n",
    "#            print(pr)\n",
    "            return it[0],it[1]\n",
    "        for i in range(x):\n",
    "            if(i not in it[1]):\n",
    "                it2=[i,*it[1]]\n",
    "                secprm=list(itertools.permutations(it2))\n",
    "                secprm.sort()\n",
    "                secprm=copy.deepcopy(tolist(secprm))\n",
    "                vt=[0]*math.factorial(len(it2))\n",
    "            #    print(\"it2 =\",it2)\n",
    "                for j in range(len(perm)):\n",
    "                    aftcnv=copy.deepcopy(convert((perm[j]),it2))\n",
    "           #         print(aftcnv)\n",
    "           #         print(secprm)\n",
    "                    vt[secprm.index(aftcnv)]+=votes[j]\n",
    "                pr.append((ILP(vt,it2),it2))\n",
    "        pr.remove(pr[0])\n",
    "        pr.sort()\n",
    "                    \n",
    "        \n",
    "        "
   ]
  },
  {
   "cell_type": "raw",
   "id": "270e1075-990b-473d-bf76-9480393b9474",
   "metadata": {},
   "source": []
  },
  {
   "cell_type": "code",
   "execution_count": 13,
   "id": "6f3bb6c5-fa5f-4630-89b7-71d717d60a4b",
   "metadata": {},
   "outputs": [
    {
     "name": "stdout",
     "output_type": "stream",
     "text": [
      "(5.0, [0, 1, 2, 3])\n"
     ]
    }
   ],
   "source": [
    "print(optmar(votes,3))"
   ]
  },
  {
   "cell_type": "code",
   "execution_count": 14,
   "id": "0b1429cd-00ba-4b31-bfc0-1cab08aa8477",
   "metadata": {},
   "outputs": [
    {
     "name": "stdout",
     "output_type": "stream",
     "text": [
      "(5.0, [0, 1, 2, 3])\n"
     ]
    }
   ],
   "source": [
    "print(margin(votes,3))"
   ]
  },
  {
   "cell_type": "code",
   "execution_count": null,
   "id": "551f0cf6-a726-4b4e-9066-a391978694c7",
   "metadata": {},
   "outputs": [],
   "source": []
  },
  {
   "cell_type": "code",
   "execution_count": null,
   "id": "3313d382-1dbc-4553-bc2e-e00eda64e9a3",
   "metadata": {},
   "outputs": [],
   "source": []
  }
 ],
 "metadata": {
  "kernelspec": {
   "display_name": "Python 3 (ipykernel)",
   "language": "python",
   "name": "python3"
  },
  "language_info": {
   "codemirror_mode": {
    "name": "ipython",
    "version": 3
   },
   "file_extension": ".py",
   "mimetype": "text/x-python",
   "name": "python",
   "nbconvert_exporter": "python",
   "pygments_lexer": "ipython3",
   "version": "3.9.12"
  }
 },
 "nbformat": 4,
 "nbformat_minor": 5
}
